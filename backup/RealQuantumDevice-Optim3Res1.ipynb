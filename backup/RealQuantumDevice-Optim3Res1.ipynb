{
 "cells": [
  {
   "cell_type": "code",
   "execution_count": 11,
   "id": "879f056c-1b42-4974-ade9-bcec7d00ce4f",
   "metadata": {},
   "outputs": [],
   "source": [
    "import numpy as np\n",
    "from qiskit.circuit.library import PauliFeatureMap\n",
    "from sklearn.svm import SVC\n",
    "import time\n",
    "import matplotlib.pyplot as plt"
   ]
  },
  {
   "cell_type": "code",
   "execution_count": 2,
   "id": "95d28e34-5269-4b3f-94b8-0683ba5b4db0",
   "metadata": {},
   "outputs": [],
   "source": [
    "import pandas as pd\n",
    "from sklearn.datasets import load_iris\n",
    "from sklearn.preprocessing import StandardScaler\n",
    "from sklearn.model_selection import train_test_split\n",
    "\n",
    "# Load the Iris dataset\n",
    "iris = load_iris()\n",
    "df = pd.DataFrame(data=iris.data, columns=iris.feature_names)\n",
    "df['target'] = iris.target\n",
    "df = pd.concat((df.iloc[:18,:], df.iloc[51:69,:]), ignore_index=True)\n",
    "df = df.drop(columns=['petal width (cm)'])\n",
    "y = df['target']\n",
    "features = df.columns[:-1]\n",
    "df_features = df[features]\n",
    "scaler = StandardScaler()\n",
    "x_data = scaler.fit_transform(df_features)\n",
    "#24 train, 12 test. C(24,2)=276 circuits for train, 24*12=288 for test. Both < 300.\n",
    "x_train, x_test, y_train, y_test = train_test_split(x_data, y, \n",
    "                                                    test_size=12, random_state=42)\n",
    "feature_dim = 3"
   ]
  },
  {
   "cell_type": "markdown",
   "id": "fe035ac3-1fcc-4169-80e1-bf63ff5fa099",
   "metadata": {},
   "source": [
    "# Real device"
   ]
  },
  {
   "cell_type": "code",
   "execution_count": 4,
   "id": "fe16c082-6e10-4909-97be-4e66cf7ef54d",
   "metadata": {},
   "outputs": [
    {
     "ename": "ImportError",
     "evalue": "cannot import name 'deprecate_func' from 'qiskit.utils.deprecation' (/home/mhassans/miniconda3/envs/myenv/lib/python3.10/site-packages/qiskit/utils/deprecation.py)",
     "output_type": "error",
     "traceback": [
      "\u001b[0;31m---------------------------------------------------------------------------\u001b[0m",
      "\u001b[0;31mImportError\u001b[0m                               Traceback (most recent call last)",
      "Cell \u001b[0;32mIn [4], line 1\u001b[0m\n\u001b[0;32m----> 1\u001b[0m \u001b[38;5;28;01mfrom\u001b[39;00m \u001b[38;5;21;01mqiskit\u001b[39;00m\u001b[38;5;21;01m.\u001b[39;00m\u001b[38;5;21;01malgorithms\u001b[39;00m\u001b[38;5;21;01m.\u001b[39;00m\u001b[38;5;21;01mstate_fidelities\u001b[39;00m \u001b[38;5;28;01mimport\u001b[39;00m ComputeUncompute\n\u001b[1;32m      2\u001b[0m \u001b[38;5;28;01mfrom\u001b[39;00m \u001b[38;5;21;01mqiskit_ibm_runtime\u001b[39;00m \u001b[38;5;28;01mimport\u001b[39;00m Sampler, QiskitRuntimeService, Options\n\u001b[1;32m      3\u001b[0m \u001b[38;5;28;01mfrom\u001b[39;00m \u001b[38;5;21;01mqiskit_machine_learning\u001b[39;00m\u001b[38;5;21;01m.\u001b[39;00m\u001b[38;5;21;01mkernels\u001b[39;00m \u001b[38;5;28;01mimport\u001b[39;00m FidelityQuantumKernel\n",
      "File \u001b[0;32m~/miniconda3/envs/myenv/lib/python3.10/site-packages/qiskit/algorithms/__init__.py:308\u001b[0m\n\u001b[1;32m    306\u001b[0m \u001b[38;5;28;01mfrom\u001b[39;00m \u001b[38;5;21;01m.\u001b[39;00m\u001b[38;5;21;01malgorithm_job\u001b[39;00m \u001b[38;5;28;01mimport\u001b[39;00m AlgorithmJob\n\u001b[1;32m    307\u001b[0m \u001b[38;5;28;01mfrom\u001b[39;00m \u001b[38;5;21;01m.\u001b[39;00m\u001b[38;5;21;01malgorithm_result\u001b[39;00m \u001b[38;5;28;01mimport\u001b[39;00m AlgorithmResult\n\u001b[0;32m--> 308\u001b[0m \u001b[38;5;28;01mfrom\u001b[39;00m \u001b[38;5;21;01m.\u001b[39;00m\u001b[38;5;21;01mevolvers\u001b[39;00m \u001b[38;5;28;01mimport\u001b[39;00m EvolutionResult, EvolutionProblem\n\u001b[1;32m    309\u001b[0m \u001b[38;5;28;01mfrom\u001b[39;00m \u001b[38;5;21;01m.\u001b[39;00m\u001b[38;5;21;01mevolvers\u001b[39;00m\u001b[38;5;21;01m.\u001b[39;00m\u001b[38;5;21;01mreal_evolver\u001b[39;00m \u001b[38;5;28;01mimport\u001b[39;00m RealEvolver\n\u001b[1;32m    310\u001b[0m \u001b[38;5;28;01mfrom\u001b[39;00m \u001b[38;5;21;01m.\u001b[39;00m\u001b[38;5;21;01mevolvers\u001b[39;00m\u001b[38;5;21;01m.\u001b[39;00m\u001b[38;5;21;01mimaginary_evolver\u001b[39;00m \u001b[38;5;28;01mimport\u001b[39;00m ImaginaryEvolver\n",
      "File \u001b[0;32m~/miniconda3/envs/myenv/lib/python3.10/site-packages/qiskit/algorithms/evolvers/__init__.py:15\u001b[0m\n\u001b[1;32m      1\u001b[0m \u001b[38;5;66;03m# This code is part of Qiskit.\u001b[39;00m\n\u001b[1;32m      2\u001b[0m \u001b[38;5;66;03m#\u001b[39;00m\n\u001b[1;32m      3\u001b[0m \u001b[38;5;66;03m# (C) Copyright IBM 2021, 2022.\u001b[39;00m\n\u001b[0;32m   (...)\u001b[0m\n\u001b[1;32m     10\u001b[0m \u001b[38;5;66;03m# copyright notice, and modified files need to carry a notice indicating\u001b[39;00m\n\u001b[1;32m     11\u001b[0m \u001b[38;5;66;03m# that they have been altered from the originals.\u001b[39;00m\n\u001b[1;32m     13\u001b[0m \u001b[38;5;124;03m\"\"\"Quantum Time Evolution package.\"\"\"\u001b[39;00m\n\u001b[0;32m---> 15\u001b[0m \u001b[38;5;28;01mfrom\u001b[39;00m \u001b[38;5;21;01m.\u001b[39;00m\u001b[38;5;21;01mevolution_result\u001b[39;00m \u001b[38;5;28;01mimport\u001b[39;00m EvolutionResult\n\u001b[1;32m     16\u001b[0m \u001b[38;5;28;01mfrom\u001b[39;00m \u001b[38;5;21;01m.\u001b[39;00m\u001b[38;5;21;01mevolution_problem\u001b[39;00m \u001b[38;5;28;01mimport\u001b[39;00m EvolutionProblem\n\u001b[1;32m     18\u001b[0m __all__ \u001b[38;5;241m=\u001b[39m [\n\u001b[1;32m     19\u001b[0m     \u001b[38;5;124m\"\u001b[39m\u001b[38;5;124mEvolutionResult\u001b[39m\u001b[38;5;124m\"\u001b[39m,\n\u001b[1;32m     20\u001b[0m     \u001b[38;5;124m\"\u001b[39m\u001b[38;5;124mEvolutionProblem\u001b[39m\u001b[38;5;124m\"\u001b[39m,\n\u001b[1;32m     21\u001b[0m ]\n",
      "File \u001b[0;32m~/miniconda3/envs/myenv/lib/python3.10/site-packages/qiskit/algorithms/evolvers/evolution_result.py:19\u001b[0m\n\u001b[1;32m     17\u001b[0m \u001b[38;5;28;01mfrom\u001b[39;00m \u001b[38;5;21;01mqiskit\u001b[39;00m \u001b[38;5;28;01mimport\u001b[39;00m QuantumCircuit\n\u001b[1;32m     18\u001b[0m \u001b[38;5;28;01mfrom\u001b[39;00m \u001b[38;5;21;01mqiskit\u001b[39;00m\u001b[38;5;21;01m.\u001b[39;00m\u001b[38;5;21;01malgorithms\u001b[39;00m\u001b[38;5;21;01m.\u001b[39;00m\u001b[38;5;21;01mlist_or_dict\u001b[39;00m \u001b[38;5;28;01mimport\u001b[39;00m ListOrDict\n\u001b[0;32m---> 19\u001b[0m \u001b[38;5;28;01mfrom\u001b[39;00m \u001b[38;5;21;01mqiskit\u001b[39;00m\u001b[38;5;21;01m.\u001b[39;00m\u001b[38;5;21;01mopflow\u001b[39;00m \u001b[38;5;28;01mimport\u001b[39;00m StateFn, OperatorBase\n\u001b[1;32m     20\u001b[0m \u001b[38;5;28;01mfrom\u001b[39;00m \u001b[38;5;21;01mqiskit\u001b[39;00m\u001b[38;5;21;01m.\u001b[39;00m\u001b[38;5;21;01mutils\u001b[39;00m\u001b[38;5;21;01m.\u001b[39;00m\u001b[38;5;21;01mdeprecation\u001b[39;00m \u001b[38;5;28;01mimport\u001b[39;00m deprecate_func\n\u001b[1;32m     21\u001b[0m \u001b[38;5;28;01mfrom\u001b[39;00m \u001b[38;5;21;01m.\u001b[39;00m\u001b[38;5;21;01m.\u001b[39;00m\u001b[38;5;21;01malgorithm_result\u001b[39;00m \u001b[38;5;28;01mimport\u001b[39;00m AlgorithmResult\n",
      "File \u001b[0;32m~/miniconda3/envs/myenv/lib/python3.10/site-packages/qiskit/opflow/__init__.py:165\u001b[0m\n\u001b[1;32m    162\u001b[0m \u001b[38;5;28;01mimport\u001b[39;00m \u001b[38;5;21;01mwarnings\u001b[39;00m\n\u001b[1;32m    164\u001b[0m \u001b[38;5;66;03m# New Operators\u001b[39;00m\n\u001b[0;32m--> 165\u001b[0m \u001b[38;5;28;01mfrom\u001b[39;00m \u001b[38;5;21;01m.\u001b[39;00m\u001b[38;5;21;01moperator_base\u001b[39;00m \u001b[38;5;28;01mimport\u001b[39;00m OperatorBase\n\u001b[1;32m    166\u001b[0m \u001b[38;5;28;01mfrom\u001b[39;00m \u001b[38;5;21;01m.\u001b[39;00m\u001b[38;5;21;01mprimitive_ops\u001b[39;00m \u001b[38;5;28;01mimport\u001b[39;00m (\n\u001b[1;32m    167\u001b[0m     PrimitiveOp,\n\u001b[1;32m    168\u001b[0m     PauliOp,\n\u001b[0;32m   (...)\u001b[0m\n\u001b[1;32m    173\u001b[0m     Z2Symmetries,\n\u001b[1;32m    174\u001b[0m )\n\u001b[1;32m    175\u001b[0m \u001b[38;5;28;01mfrom\u001b[39;00m \u001b[38;5;21;01m.\u001b[39;00m\u001b[38;5;21;01mstate_fns\u001b[39;00m \u001b[38;5;28;01mimport\u001b[39;00m (\n\u001b[1;32m    176\u001b[0m     StateFn,\n\u001b[1;32m    177\u001b[0m     DictStateFn,\n\u001b[0;32m   (...)\u001b[0m\n\u001b[1;32m    182\u001b[0m     SparseVectorStateFn,\n\u001b[1;32m    183\u001b[0m )\n",
      "File \u001b[0;32m~/miniconda3/envs/myenv/lib/python3.10/site-packages/qiskit/opflow/operator_base.py:24\u001b[0m\n\u001b[1;32m     21\u001b[0m \u001b[38;5;28;01mfrom\u001b[39;00m \u001b[38;5;21;01mscipy\u001b[39;00m\u001b[38;5;21;01m.\u001b[39;00m\u001b[38;5;21;01msparse\u001b[39;00m \u001b[38;5;28;01mimport\u001b[39;00m csr_matrix, spmatrix\n\u001b[1;32m     23\u001b[0m \u001b[38;5;28;01mfrom\u001b[39;00m \u001b[38;5;21;01mqiskit\u001b[39;00m\u001b[38;5;21;01m.\u001b[39;00m\u001b[38;5;21;01mcircuit\u001b[39;00m \u001b[38;5;28;01mimport\u001b[39;00m ParameterExpression, ParameterVector\n\u001b[0;32m---> 24\u001b[0m \u001b[38;5;28;01mfrom\u001b[39;00m \u001b[38;5;21;01mqiskit\u001b[39;00m\u001b[38;5;21;01m.\u001b[39;00m\u001b[38;5;21;01mopflow\u001b[39;00m\u001b[38;5;21;01m.\u001b[39;00m\u001b[38;5;21;01mexceptions\u001b[39;00m \u001b[38;5;28;01mimport\u001b[39;00m OpflowError\n\u001b[1;32m     25\u001b[0m \u001b[38;5;28;01mfrom\u001b[39;00m \u001b[38;5;21;01mqiskit\u001b[39;00m\u001b[38;5;21;01m.\u001b[39;00m\u001b[38;5;21;01mopflow\u001b[39;00m\u001b[38;5;21;01m.\u001b[39;00m\u001b[38;5;21;01mmixins\u001b[39;00m \u001b[38;5;28;01mimport\u001b[39;00m StarAlgebraMixin, TensorMixin\n\u001b[1;32m     26\u001b[0m \u001b[38;5;28;01mfrom\u001b[39;00m \u001b[38;5;21;01mqiskit\u001b[39;00m\u001b[38;5;21;01m.\u001b[39;00m\u001b[38;5;21;01mquantum_info\u001b[39;00m \u001b[38;5;28;01mimport\u001b[39;00m Statevector\n",
      "File \u001b[0;32m~/miniconda3/envs/myenv/lib/python3.10/site-packages/qiskit/opflow/exceptions.py:16\u001b[0m\n\u001b[1;32m     13\u001b[0m \u001b[38;5;124;03m\"\"\"Exception for errors raised by Opflow module.\"\"\"\u001b[39;00m\n\u001b[1;32m     15\u001b[0m \u001b[38;5;28;01mfrom\u001b[39;00m \u001b[38;5;21;01mqiskit\u001b[39;00m\u001b[38;5;21;01m.\u001b[39;00m\u001b[38;5;21;01mexceptions\u001b[39;00m \u001b[38;5;28;01mimport\u001b[39;00m QiskitError\n\u001b[0;32m---> 16\u001b[0m \u001b[38;5;28;01mfrom\u001b[39;00m \u001b[38;5;21;01mqiskit\u001b[39;00m\u001b[38;5;21;01m.\u001b[39;00m\u001b[38;5;21;01mutils\u001b[39;00m\u001b[38;5;21;01m.\u001b[39;00m\u001b[38;5;21;01mdeprecation\u001b[39;00m \u001b[38;5;28;01mimport\u001b[39;00m deprecate_func\n\u001b[1;32m     19\u001b[0m \u001b[38;5;28;01mclass\u001b[39;00m \u001b[38;5;21;01mOpflowError\u001b[39;00m(QiskitError):\n\u001b[1;32m     20\u001b[0m     \u001b[38;5;124;03m\"\"\"Deprecated: For Opflow specific errors.\"\"\"\u001b[39;00m\n",
      "\u001b[0;31mImportError\u001b[0m: cannot import name 'deprecate_func' from 'qiskit.utils.deprecation' (/home/mhassans/miniconda3/envs/myenv/lib/python3.10/site-packages/qiskit/utils/deprecation.py)"
     ]
    }
   ],
   "source": [
    "from qiskit.algorithms.state_fidelities import ComputeUncompute\n",
    "from qiskit_ibm_runtime import Sampler, QiskitRuntimeService, Options\n",
    "from qiskit_machine_learning.kernels import FidelityQuantumKernel"
   ]
  },
  {
   "cell_type": "code",
   "execution_count": 4,
   "id": "e26f375a-4e4f-4146-bc7f-ade8f26cc947",
   "metadata": {},
   "outputs": [],
   "source": [
    "#from https://qiskit.org/providers/\n",
    "# and https://qiskit.org/ecosystem/machine-learning/migration/01_migration_guide_0.5.html#New-quantum-kernel"
   ]
  },
  {
   "cell_type": "code",
   "execution_count": 5,
   "id": "4777e2ed-3fb8-4a6c-a98f-240b07adede6",
   "metadata": {},
   "outputs": [],
   "source": [
    "service = QiskitRuntimeService(channel=\"ibm_quantum\")\n",
    "backend = service.backend(\"ibmq_manila\")\n",
    "options = Options(optimization_level=3, resilience_level=1)"
   ]
  },
  {
   "cell_type": "code",
   "execution_count": 6,
   "id": "8e7d2a1f-f738-46bd-ba85-86cf4571fcd4",
   "metadata": {},
   "outputs": [],
   "source": [
    "sampler = Sampler(session=backend, options=options)"
   ]
  },
  {
   "cell_type": "code",
   "execution_count": 7,
   "id": "e59f00c5-5498-4d26-8692-b1171a51d216",
   "metadata": {},
   "outputs": [],
   "source": [
    "fidelity = ComputeUncompute(sampler=sampler)"
   ]
  },
  {
   "cell_type": "code",
   "execution_count": 8,
   "id": "046ad0a5-b2f1-48e1-89b5-bc05a823fab5",
   "metadata": {},
   "outputs": [],
   "source": [
    "paulis = [[\"X\", \"YZ\"]]\n",
    "reps = 2\n",
    "entanglement = \"linear\"\n",
    "feature_map = PauliFeatureMap(\n",
    "               feature_dimension=feature_dim,\n",
    "               alpha=0.5,\n",
    "               reps=reps,\n",
    "               paulis=paulis,\n",
    "               entanglement=entanglement,\n",
    "              )"
   ]
  },
  {
   "cell_type": "code",
   "execution_count": 9,
   "id": "3f576efd-43ab-4178-bb21-720d0110a0ae",
   "metadata": {},
   "outputs": [],
   "source": [
    "kernelReal = FidelityQuantumKernel(feature_map=feature_map, fidelity=fidelity)"
   ]
  },
  {
   "cell_type": "code",
   "execution_count": 10,
   "id": "8f3f82dd-8045-4ece-835a-528da4548382",
   "metadata": {},
   "outputs": [],
   "source": [
    "model = SVC(kernel = kernelReal.evaluate, C = 100, cache_size = 1000)"
   ]
  },
  {
   "cell_type": "code",
   "execution_count": 11,
   "id": "10347f9f-e1d4-4d18-b109-0ed02414d714",
   "metadata": {},
   "outputs": [],
   "source": [
    "start_train = time.time()\n",
    "model.fit(x_train, y_train)\n",
    "end_train = time.time()"
   ]
  },
  {
   "cell_type": "code",
   "execution_count": 12,
   "id": "0b1c296f-dbcf-4038-bffb-027b8a481ee4",
   "metadata": {},
   "outputs": [],
   "source": [
    "start_test = time.time()\n",
    "dec_funcs = model.decision_function(x_test)\n",
    "end_test = time.time()"
   ]
  },
  {
   "cell_type": "code",
   "execution_count": 13,
   "id": "1b9119cb-a3fd-476c-972c-cd0156fb2776",
   "metadata": {},
   "outputs": [
    {
     "data": {
      "text/plain": [
       "array([-0.83942999,  0.57015597,  0.73385591,  0.80960733,  0.35516125,\n",
       "       -0.88424229, -0.24690282, -2.7310009 ,  0.96180315, -1.00248934,\n",
       "       -1.9861457 , -0.82879835])"
      ]
     },
     "execution_count": 13,
     "metadata": {},
     "output_type": "execute_result"
    }
   ],
   "source": [
    "dec_funcs"
   ]
  },
  {
   "cell_type": "code",
   "execution_count": null,
   "id": "30d78817-b33f-4a51-81e5-81e53ba4b7c1",
   "metadata": {},
   "outputs": [],
   "source": []
  },
  {
   "cell_type": "code",
   "execution_count": null,
   "id": "b4a8f702-b1a4-4938-9fd1-4b5c8e464497",
   "metadata": {},
   "outputs": [],
   "source": []
  },
  {
   "cell_type": "code",
   "execution_count": 14,
   "id": "9e85c66d-3a16-4963-bcf4-fb96e3d7e0b1",
   "metadata": {},
   "outputs": [],
   "source": []
  },
  {
   "cell_type": "code",
   "execution_count": 32,
   "id": "83e948ad-8868-4e0f-8202-165e102118c4",
   "metadata": {},
   "outputs": [
    {
     "data": {
      "text/plain": [
       "Text(0.5, 1.0, 'opt=3, res=1')"
      ]
     },
     "execution_count": 32,
     "metadata": {},
     "output_type": "execute_result"
    },
    {
     "data": {
      "image/png": "[encoded data removed]",
      "text/plain": [
       "<Figure size 640x480 with 1 Axes>"
      ]
     },
     "metadata": {},
     "output_type": "display_data"
    }
   ],
   "source": [
    "hist = plt.hist(dec_funcs[y_test==0], edgecolor='blue', alpha=0.5, histtype='step')\n",
    "hist = plt.hist(dec_funcs[y_test==1], edgecolor='red', alpha=0.5, histtype='step')\n",
    "plt.xlabel('decision function')\n",
    "plt.title('opt=3, res=1')"
   ]
  },
  {
   "cell_type": "code",
   "execution_count": null,
   "id": "5ca498de-a25e-4b58-b64a-020b2ef1da8c",
   "metadata": {},
   "outputs": [],
   "source": []
  },
  {
   "cell_type": "markdown",
   "id": "6aa0b274-5185-49de-b4cd-e0458f11ebda",
   "metadata": {},
   "source": [
    "# Simulation (updated libraries)"
   ]
  },
  {
   "cell_type": "code",
   "execution_count": 3,
   "id": "ae1c78ff-4aad-427b-b5f9-365c993b6060",
   "metadata": {},
   "outputs": [],
   "source": [
    "from qiskit_machine_learning.kernels import FidelityStatevectorKernel\n"
   ]
  },
  {
   "cell_type": "code",
   "execution_count": 24,
   "id": "fcfbe2f8-0ff7-4d11-8ab4-ae8c7d22fda0",
   "metadata": {},
   "outputs": [],
   "source": [
    "class QKE_SVC():\n",
    "    def __init__(self):\n",
    "        paulis = [[\"X\", \"YZ\"]]\n",
    "        reps = 2\n",
    "        entanglement = \"linear\"\n",
    "        feature_map = PauliFeatureMap(\n",
    "                       feature_dimension=feature_dim,\n",
    "                       alpha=0.5,\n",
    "                       reps=reps,\n",
    "                       paulis=paulis,\n",
    "                       entanglement=entanglement,\n",
    "                      )\n",
    "        self.kernel_func = FidelityStatevectorKernel(feature_map=feature_map, shots=1024, enforce_psd=False)        \n",
    "        \n",
    "    def kernel_from_subkernels(self, mtx1, mtx2=None):\n",
    "        if mtx2 is None:\n",
    "            mtx2 = mtx1\n",
    "        dim1 = np.shape(mtx1)[0]\n",
    "        dim2 = np.shape(mtx2)[0]\n",
    "        kernel = np.zeros((dim1, dim2))\n",
    "        subKernelDim = 10\n",
    "        counter=0\n",
    "        if (dim1/subKernelDim == dim1//subKernelDim) and (dim2/subKernelDim == dim2//subKernelDim):\n",
    "            for i in range(dim1//subKernelDim):\n",
    "                for j in range(dim2//subKernelDim):\n",
    "                    kernel[i*subKernelDim:(i+1)*subKernelDim, j*subKernelDim:(j+1)*subKernelDim] = self.kernel_func.evaluate(mtx1[i*subKernelDim:(i+1)*subKernelDim], mtx2[j*subKernelDim:(j+1)*subKernelDim])\n",
    "                    counter+=1\n",
    "                    #print(counter)\n",
    "        else:\n",
    "            raise ValueError('subKernelDim is not a divisor of dimX or dimY. Modify the code to handle such cases.')\n",
    "        return kernel\n",
    "    \n",
    "    def train_model(self, from_subkernels=False):\n",
    "        if from_subkernels:\n",
    "            model = SVC(kernel = self.kernel_from_subkernels, C = 100, cache_size = 1000)\n",
    "        else:\n",
    "            model = SVC(kernel = self.kernel_func.evaluate, C = 100, cache_size = 1000)\n",
    "        return model\n",
    "    "
   ]
  },
  {
   "cell_type": "code",
   "execution_count": 25,
   "id": "7bfa8465-2a60-4d50-9ef5-4c3b3ea6cd35",
   "metadata": {},
   "outputs": [],
   "source": [
    "QKE_model = QKE_SVC()"
   ]
  },
  {
   "cell_type": "code",
   "execution_count": 26,
   "id": "f17d07bc-c623-450b-bbb1-0fdd43b0af8f",
   "metadata": {},
   "outputs": [],
   "source": [
    "modelSim = QKE_model.train_model(from_subkernels=False)"
   ]
  },
  {
   "cell_type": "code",
   "execution_count": 27,
   "id": "2257a981-b589-4f6a-80a7-e38d53b4ec28",
   "metadata": {},
   "outputs": [
    {
     "data": {
      "text/html": [
       "<style>#sk-container-id-4 {color: black;background-color: white;}#sk-container-id-4 pre{padding: 0;}#sk-container-id-4 div.sk-toggleable {background-color: white;}#sk-container-id-4 label.sk-toggleable__label {cursor: pointer;display: block;width: 100%;margin-bottom: 0;padding: 0.3em;box-sizing: border-box;text-align: center;}#sk-container-id-4 label.sk-toggleable__label-arrow:before {content: \"▸\";float: left;margin-right: 0.25em;color: #696969;}#sk-container-id-4 label.sk-toggleable__label-arrow:hover:before {color: black;}#sk-container-id-4 div.sk-estimator:hover label.sk-toggleable__label-arrow:before {color: black;}#sk-container-id-4 div.sk-toggleable__content {max-height: 0;max-width: 0;overflow: hidden;text-align: left;background-color: #f0f8ff;}#sk-container-id-4 div.sk-toggleable__content pre {margin: 0.2em;color: black;border-radius: 0.25em;background-color: #f0f8ff;}#sk-container-id-4 input.sk-toggleable__control:checked~div.sk-toggleable__content {max-height: 200px;max-width: 100%;overflow: auto;}#sk-container-id-4 input.sk-toggleable__control:checked~label.sk-toggleable__label-arrow:before {content: \"▾\";}#sk-container-id-4 div.sk-estimator input.sk-toggleable__control:checked~label.sk-toggleable__label {background-color: #d4ebff;}#sk-container-id-4 div.sk-label input.sk-toggleable__control:checked~label.sk-toggleable__label {background-color: #d4ebff;}#sk-container-id-4 input.sk-hidden--visually {border: 0;clip: rect(1px 1px 1px 1px);clip: rect(1px, 1px, 1px, 1px);height: 1px;margin: -1px;overflow: hidden;padding: 0;position: absolute;width: 1px;}#sk-container-id-4 div.sk-estimator {font-family: monospace;background-color: #f0f8ff;border: 1px dotted black;border-radius: 0.25em;box-sizing: border-box;margin-bottom: 0.5em;}#sk-container-id-4 div.sk-estimator:hover {background-color: #d4ebff;}#sk-container-id-4 div.sk-parallel-item::after {content: \"\";width: 100%;border-bottom: 1px solid gray;flex-grow: 1;}#sk-container-id-4 div.sk-label:hover label.sk-toggleable__label {background-color: #d4ebff;}#sk-container-id-4 div.sk-serial::before {content: \"\";position: absolute;border-left: 1px solid gray;box-sizing: border-box;top: 0;bottom: 0;left: 50%;z-index: 0;}#sk-container-id-4 div.sk-serial {display: flex;flex-direction: column;align-items: center;background-color: white;padding-right: 0.2em;padding-left: 0.2em;position: relative;}#sk-container-id-4 div.sk-item {position: relative;z-index: 1;}#sk-container-id-4 div.sk-parallel {display: flex;align-items: stretch;justify-content: center;background-color: white;position: relative;}#sk-container-id-4 div.sk-item::before, #sk-container-id-4 div.sk-parallel-item::before {content: \"\";position: absolute;border-left: 1px solid gray;box-sizing: border-box;top: 0;bottom: 0;left: 50%;z-index: -1;}#sk-container-id-4 div.sk-parallel-item {display: flex;flex-direction: column;z-index: 1;position: relative;background-color: white;}#sk-container-id-4 div.sk-parallel-item:first-child::after {align-self: flex-end;width: 50%;}#sk-container-id-4 div.sk-parallel-item:last-child::after {align-self: flex-start;width: 50%;}#sk-container-id-4 div.sk-parallel-item:only-child::after {width: 0;}#sk-container-id-4 div.sk-dashed-wrapped {border: 1px dashed gray;margin: 0 0.4em 0.5em 0.4em;box-sizing: border-box;padding-bottom: 0.4em;background-color: white;}#sk-container-id-4 div.sk-label label {font-family: monospace;font-weight: bold;display: inline-block;line-height: 1.2em;}#sk-container-id-4 div.sk-label-container {text-align: center;}#sk-container-id-4 div.sk-container {/* jupyter's `normalize.less` sets `[hidden] { display: none; }` but bootstrap.min.css set `[hidden] { display: none !important; }` so we also need the `!important` here to be able to override the default hidden behavior on the sphinx rendered scikit-learn.org. See: https://github.com/scikit-learn/scikit-learn/issues/21755 */display: inline-block !important;position: relative;}#sk-container-id-4 div.sk-text-repr-fallback {display: none;}</style><div id=\"sk-container-id-4\" class=\"sk-top-container\"><div class=\"sk-text-repr-fallback\"><pre>SVC(C=100, cache_size=1000,\n",
       "    kernel=&lt;bound method FidelityStatevectorKernel.evaluate of &lt;qiskit_machine_learning.kernels.fidelity_statevector_kernel.FidelityStatevectorKernel object at 0x7fd6e7526ec0&gt;&gt;)</pre><b>In a Jupyter environment, please rerun this cell to show the HTML representation or trust the notebook. <br />On GitHub, the HTML representation is unable to render, please try loading this page with nbviewer.org.</b></div><div class=\"sk-container\" hidden><div class=\"sk-item\"><div class=\"sk-estimator sk-toggleable\"><input class=\"sk-toggleable__control sk-hidden--visually\" id=\"sk-estimator-id-4\" type=\"checkbox\" checked><label for=\"sk-estimator-id-4\" class=\"sk-toggleable__label sk-toggleable__label-arrow\">SVC</label><div class=\"sk-toggleable__content\"><pre>SVC(C=100, cache_size=1000,\n",
       "    kernel=&lt;bound method FidelityStatevectorKernel.evaluate of &lt;qiskit_machine_learning.kernels.fidelity_statevector_kernel.FidelityStatevectorKernel object at 0x7fd6e7526ec0&gt;&gt;)</pre></div></div></div></div></div>"
      ],
      "text/plain": [
       "SVC(C=100, cache_size=1000,\n",
       "    kernel=<bound method FidelityStatevectorKernel.evaluate of <qiskit_machine_learning.kernels.fidelity_statevector_kernel.FidelityStatevectorKernel object at 0x7fd6e7526ec0>>)"
      ]
     },
     "execution_count": 27,
     "metadata": {},
     "output_type": "execute_result"
    }
   ],
   "source": [
    "modelSim.fit(x_train, y_train)"
   ]
  },
  {
   "cell_type": "code",
   "execution_count": 28,
   "id": "05abb802-c081-4d01-9633-ad41222c127b",
   "metadata": {},
   "outputs": [],
   "source": [
    "dec_funcsSim = modelSim.decision_function(x_test)"
   ]
  },
  {
   "cell_type": "code",
   "execution_count": 29,
   "id": "ac8df18c-e6b6-408a-bb24-54d5c06252f8",
   "metadata": {},
   "outputs": [
    {
     "data": {
      "text/plain": [
       "array([-2.63751402, -0.05247096, -0.528493  ,  4.85962683,  3.38895532,\n",
       "       -6.45088451,  0.74798868, -8.85756704,  2.18614553, -4.5584239 ,\n",
       "       -1.05772369, -4.5115584 ])"
      ]
     },
     "execution_count": 29,
     "metadata": {},
     "output_type": "execute_result"
    }
   ],
   "source": [
    "dec_funcsSim"
   ]
  },
  {
   "cell_type": "code",
   "execution_count": 30,
   "id": "1043959c-4ac4-493e-8874-cb0c7f504589",
   "metadata": {},
   "outputs": [
    {
     "data": {
      "text/plain": [
       "Text(0.5, 1.0, 'noiseless simulation; shots=inf')"
      ]
     },
     "execution_count": 30,
     "metadata": {},
     "output_type": "execute_result"
    },
    {
     "data": {
      "image/png": "[encoded data removed]",
      "text/plain": [
       "<Figure size 640x480 with 1 Axes>"
      ]
     },
     "metadata": {},
     "output_type": "display_data"
    }
   ],
   "source": [
    "histSim = plt.hist(dec_funcsSim[y_test==0], edgecolor='blue', alpha=0.5, histtype='step')\n",
    "histSim = plt.hist(dec_funcsSim[y_test==1], edgecolor='red', alpha=0.5, histtype='step')\n",
    "plt.xlabel('decision function')\n",
    "plt.title('noiseless simulation; shots=inf')"
   ]
  },
  {
   "cell_type": "code",
   "execution_count": null,
   "id": "a2756a45-10ad-4a32-8277-cf14ae398c78",
   "metadata": {},
   "outputs": [],
   "source": []
  },
  {
   "cell_type": "code",
   "execution_count": null,
   "id": "0a78af82-fd21-4733-9717-0590e58bdfa9",
   "metadata": {},
   "outputs": [],
   "source": []
  },
  {
   "cell_type": "markdown",
   "id": "a3023a3a-9dc4-400a-86d3-fd750bd92091",
   "metadata": {},
   "source": [
    "# A simple circuit "
   ]
  },
  {
   "cell_type": "code",
   "execution_count": null,
   "id": "4b21b164-f07d-466f-a7a6-dd7e7f025545",
   "metadata": {},
   "outputs": [],
   "source": [
    "#from qiskit_ibm_provider import IBMProvider\n",
    "#providerReal = IBMProvider()\n",
    "#backendReal = providerReal.get_backend('ibmq_manila')"
   ]
  },
  {
   "cell_type": "code",
   "execution_count": null,
   "id": "9cf99766-80c4-4ae3-8177-d54769697064",
   "metadata": {},
   "outputs": [],
   "source": []
  }
 ],
 "metadata": {
  "kernelspec": {
   "display_name": "Python 3 (ipykernel)",
   "language": "python",
   "name": "python3"
  },
  "language_info": {
   "codemirror_mode": {
    "name": "ipython",
    "version": 3
   },
   "file_extension": ".py",
   "mimetype": "text/x-python",
   "name": "python",
   "nbconvert_exporter": "python",
   "pygments_lexer": "ipython3",
   "version": "3.10.6"
  }
 },
 "nbformat": 4,
 "nbformat_minor": 5
}
